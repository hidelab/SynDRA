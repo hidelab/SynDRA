{
 "cells": [
  {
   "cell_type": "markdown",
   "metadata": {},
   "source": [
    "# This is only a incomplete API framework to send requests to Maayan Lab databases. We are not currently using this."
   ]
  },
  {
   "cell_type": "code",
   "execution_count": null,
   "metadata": {},
   "outputs": [],
   "source": [
    "import requests\n",
    "import os\n",
    "import json  # Import the correct JSON module\n",
    "\n",
    "# API endpoint\n",
    "api_url = \"https://maayanlab.cloud/Harmonizome/api/1.0/dataset/LINCS+L1000+CMAP+Signatures+of+Differentially+Expressed+Genes+for+Small+Molecules\"\n",
    "\n",
    "# Fetch the API response\n",
    "response = requests.get(api_url)\n",
    "if response.status_code != 200:\n",
    "    print(f\"Failed to fetch API data. HTTP Status Code: {response.status_code}\")\n",
    "    exit()\n",
    "\n",
    "# Parse the JSON response\n",
    "try:\n",
    "    data = response.json()\n",
    "except ValueError:\n",
    "    print(\"Failed to parse JSON response.\")\n",
    "    exit()\n",
    "\n",
    "# Extract gene sets\n",
    "gene_sets = data.get(\"geneSets\", [])\n",
    "if not gene_sets:\n",
    "    print(\"No gene sets found in the API response.\")\n",
    "    exit()\n",
    "\n",
    "# Create a folder for the dataset\n",
    "dataset_name = data.get(\"name\", \"dataset\").replace(\" \", \"_\")\n",
    "if not os.path.exists(dataset_name):\n",
    "    os.mkdir(dataset_name)\n",
    "\n",
    "# Download each gene set\n",
    "for gene_set in gene_sets:\n",
    "    name = gene_set[\"name\"]\n",
    "    href = gene_set[\"href\"]\n",
    "    # Replace spaces with '+' in the href to construct the correct URL\n",
    "    corrected_href = href.replace(\" \", \"+\")\n",
    "    file_url = f\"https://maayanlab.cloud/Harmonizome/{corrected_href}\"\n",
    "\n",
    "    print(f\"Fetching data for: {name}\")\n",
    "    print(f\"Constructed URL: {file_url}\")  # Debugging output\n",
    "\n",
    "    file_response = requests.get(file_url)\n",
    "    if file_response.status_code == 200:\n",
    "        try:\n",
    "            # Parse the gene set data\n",
    "            gene_set_data = file_response.json()\n",
    "            # Save the data as a JSON file\n",
    "            file_path = os.path.join(dataset_name, name.replace(\"/\", \"_\") + \".json\")\n",
    "            with open(file_path, \"w\") as f:\n",
    "                json.dump(gene_set_data, f, indent=4)  # Use the correct json.dump method\n",
    "            print(f\"Saved: {file_path}\")\n",
    "        except ValueError:\n",
    "            print(f\"Failed to parse JSON for {name}.\")\n",
    "    else:\n",
    "        print(f\"Failed to fetch data for {name}. HTTP Status Code: {file_response.status_code}\")"
   ]
  }
 ],
 "metadata": {
  "language_info": {
   "name": "python"
  }
 },
 "nbformat": 4,
 "nbformat_minor": 2
}
